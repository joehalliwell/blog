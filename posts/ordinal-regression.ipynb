{
 "cells": [
  {
   "cell_type": "markdown",
   "metadata": {},
   "source": [
    "---\n",
    "date: \"2023-09-10\"\n",
    "categories: [pytorch]\n",
    "draft: true\n",
    "---"
   ]
  },
  {
   "cell_type": "markdown",
   "metadata": {},
   "source": [
    "# Ordinal regression with huggingface transformers\n",
    "\n",
    "## What is ordinal regression?\n",
    "\n",
    "\n",
    "## Defining the ordinal regression head\n",
    "\n",
    "## Loss function"
   ]
  }
 ],
 "metadata": {
  "language_info": {
   "name": "python"
  },
  "orig_nbformat": 4
 },
 "nbformat": 4,
 "nbformat_minor": 2
}
